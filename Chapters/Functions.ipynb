{
 "cells": [
  {
   "cell_type": "markdown",
   "metadata": {},
   "source": [
    "### Functions"
   ]
  },
  {
   "cell_type": "code",
   "execution_count": 1,
   "metadata": {},
   "outputs": [
    {
     "name": "stdout",
     "output_type": "stream",
     "text": [
      "Hello World\n",
      "hello\n"
     ]
    }
   ],
   "source": [
    "def hello():\n",
    "    print(\"Hello World\")\n",
    "    print('hello')\n",
    "\n",
    "hello()"
   ]
  },
  {
   "cell_type": "code",
   "execution_count": 3,
   "metadata": {},
   "outputs": [
    {
     "name": "stdout",
     "output_type": "stream",
     "text": [
      "Hello John\n"
     ]
    }
   ],
   "source": [
    "def hello(name):\n",
    "    print(\"Hello \" + name)\n",
    "\n",
    "hello(\"John\")"
   ]
  },
  {
   "cell_type": "code",
   "execution_count": 24,
   "metadata": {},
   "outputs": [
    {
     "name": "stdout",
     "output_type": "stream",
     "text": [
      "My reply is no\n"
     ]
    }
   ],
   "source": [
    "import random\n",
    "def get_answer(answerNumber):\n",
    "    if answerNumber == 1:\n",
    "           return 'It is certain'\n",
    "    elif answerNumber == 2:\n",
    "           return 'It is decidedly so'\n",
    "    elif answerNumber == 3:\n",
    "           return 'Yes'\n",
    "    elif answerNumber == 4:\n",
    "           return 'Reply hazy try again'\n",
    "    elif answerNumber == 5:\n",
    "           return 'Ask again later'\n",
    "    elif answerNumber == 6:\n",
    "           return 'Concentrate and ask again'\n",
    "    elif answerNumber == 7:\n",
    "           return 'My reply is no'\n",
    "    elif answerNumber == 8:\n",
    "           return 'Outlook not so good'\n",
    "    elif answerNumber == 9:\n",
    "           return 'Very doubtful'\n",
    "    \n",
    "\n",
    "r = random.randint(1,9)\n",
    "fortune =get_answer(r)\n",
    "print(fortune)"
   ]
  },
  {
   "cell_type": "code",
   "execution_count": 25,
   "metadata": {},
   "outputs": [
    {
     "name": "stdout",
     "output_type": "stream",
     "text": [
      "cats,dogs,mice\n"
     ]
    }
   ],
   "source": [
    "print('cats', 'dogs', 'mice', sep=',')"
   ]
  },
  {
   "cell_type": "code",
   "execution_count": null,
   "metadata": {},
   "outputs": [],
   "source": []
  }
 ],
 "metadata": {
  "kernelspec": {
   "display_name": "Python 3.10.4 ('venv': venv)",
   "language": "python",
   "name": "python3"
  },
  "language_info": {
   "codemirror_mode": {
    "name": "ipython",
    "version": 3
   },
   "file_extension": ".py",
   "mimetype": "text/x-python",
   "name": "python",
   "nbconvert_exporter": "python",
   "pygments_lexer": "ipython3",
   "version": "3.10.4"
  },
  "orig_nbformat": 4,
  "vscode": {
   "interpreter": {
    "hash": "8f26f3f2432c8f2ec6253dff6baf3dd6fcfd26ae26b2f105813847d6b8d6fb8b"
   }
  }
 },
 "nbformat": 4,
 "nbformat_minor": 2
}
